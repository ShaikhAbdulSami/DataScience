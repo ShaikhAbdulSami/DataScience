{
 "cells": [
  {
   "cell_type": "markdown",
   "id": "93907c41",
   "metadata": {},
   "source": [
    "#  Data Science Course Assignment #1"
   ]
  },
  {
   "cell_type": "markdown",
   "id": "72bbcfcd",
   "metadata": {},
   "source": [
    "Q1. Write a Python program to print the following string in a specific format."
   ]
  },
  {
   "cell_type": "code",
   "execution_count": 1,
   "id": "876bd09b",
   "metadata": {},
   "outputs": [
    {
     "name": "stdout",
     "output_type": "stream",
     "text": [
      "Twinkle, twinkle, little star, \n",
      "\tHow I wonder what you are! \n",
      "\t\tUp above the world so high, \n",
      "\t\tLike a diamond in the sky. \n",
      "Twinkle, twinkle, little star, \n",
      "\tHow I wonder what you are!\n"
     ]
    }
   ],
   "source": [
    "print(\"Twinkle, twinkle, little star, \\n\\tHow I wonder what you are! \\n\\t\\tUp above the world so high, \\n\\t\\tLike a diamond in the sky. \\nTwinkle, twinkle, little star, \\n\\tHow I wonder what you are!\")\n"
   ]
  },
  {
   "cell_type": "markdown",
   "id": "952c81b4",
   "metadata": {},
   "source": [
    "Q2. Write a Python program to get the Python version you are using."
   ]
  },
  {
   "cell_type": "code",
   "execution_count": 2,
   "id": "8a6b1040",
   "metadata": {},
   "outputs": [
    {
     "name": "stdout",
     "output_type": "stream",
     "text": [
      "Python version 3.8.8 (default, Apr 13 2021, 12:59:45) \n",
      "[Clang 10.0.0 ]\n"
     ]
    }
   ],
   "source": [
    "import sys\n",
    "print(\"Python version\", sys.version)"
   ]
  },
  {
   "cell_type": "markdown",
   "id": "a4e5c0fb",
   "metadata": {},
   "source": [
    "OR"
   ]
  },
  {
   "cell_type": "code",
   "execution_count": 3,
   "id": "68087620",
   "metadata": {},
   "outputs": [
    {
     "name": "stdout",
     "output_type": "stream",
     "text": [
      "Python 3.8.8\r\n"
     ]
    }
   ],
   "source": [
    "!python --version"
   ]
  },
  {
   "cell_type": "markdown",
   "id": "5a6d3f70",
   "metadata": {},
   "source": [
    "Q3. Write a Python program to display current date and time."
   ]
  },
  {
   "cell_type": "code",
   "execution_count": 4,
   "id": "be0a34be",
   "metadata": {},
   "outputs": [
    {
     "name": "stdout",
     "output_type": "stream",
     "text": [
      "Current Date and Time :  2021-12-30 15:50:35\n"
     ]
    }
   ],
   "source": [
    "import datetime\n",
    "now = datetime.datetime.now()\n",
    "print (\"Current Date and Time : \", now.strftime(\"%Y-%m-%d %H:%M:%S\"))"
   ]
  },
  {
   "cell_type": "markdown",
   "id": "104b732e",
   "metadata": {},
   "source": [
    "Q4. Write a Python program which accepts the radius of a circle from user and compute the area."
   ]
  },
  {
   "cell_type": "code",
   "execution_count": 5,
   "id": "3082a213",
   "metadata": {},
   "outputs": [
    {
     "name": "stdout",
     "output_type": "stream",
     "text": [
      "Enter the radius of the circle: 8\n",
      "The area of the circle is 201.06176 sq. unit\n"
     ]
    }
   ],
   "source": [
    "R = int(input(\"Enter the radius of the circle: \"))\n",
    "A = 3.14159 *R**2\n",
    "print(f\"The area of the circle is {A} sq. unit\")"
   ]
  },
  {
   "cell_type": "markdown",
   "id": "4703771b",
   "metadata": {},
   "source": [
    "Q5. Write a computer program which accepts the user's first and last name as input and print them in reverse order with space between them."
   ]
  },
  {
   "cell_type": "code",
   "execution_count": 6,
   "id": "08f7039f",
   "metadata": {},
   "outputs": [
    {
     "name": "stdout",
     "output_type": "stream",
     "text": [
      "Input your First Name : Shaikh\n",
      "Input your Last Name : Sami\n",
      "Welcome Sami Shaikh\n"
     ]
    }
   ],
   "source": [
    "first_name = input(\"Input your First Name : \")\n",
    "last_name = input(\"Input your Last Name : \")\n",
    "print (f\"Welcome {last_name} {first_name}\" )"
   ]
  },
  {
   "cell_type": "markdown",
   "id": "02f64b6a",
   "metadata": {},
   "source": [
    "Q6. Write a Python program which takes two inputs from user and print them addition."
   ]
  },
  {
   "cell_type": "code",
   "execution_count": 7,
   "id": "e0181545",
   "metadata": {},
   "outputs": [
    {
     "name": "stdout",
     "output_type": "stream",
     "text": [
      "Enter first number: 10\n",
      "Enter second number: 8\n",
      "The sum of 10 and 8 is 18.0\n"
     ]
    }
   ],
   "source": [
    "N1 = input('Enter first number: ')\n",
    "N2 = input('Enter second number: ')\n",
    "S = float(N1) + float(N2)\n",
    "print(f\"The sum of {N1} and {N2} is {S}\")\n"
   ]
  }
 ],
 "metadata": {
  "kernelspec": {
   "display_name": "Python 3",
   "language": "python",
   "name": "python3"
  },
  "language_info": {
   "codemirror_mode": {
    "name": "ipython",
    "version": 3
   },
   "file_extension": ".py",
   "mimetype": "text/x-python",
   "name": "python",
   "nbconvert_exporter": "python",
   "pygments_lexer": "ipython3",
   "version": "3.8.8"
  }
 },
 "nbformat": 4,
 "nbformat_minor": 5
}
